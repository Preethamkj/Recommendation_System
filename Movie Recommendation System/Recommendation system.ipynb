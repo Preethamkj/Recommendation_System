{
 "cells": [
  {
   "cell_type": "code",
   "execution_count": 1,
   "id": "54f0ecad",
   "metadata": {},
   "outputs": [],
   "source": [
    "import numpy as np\n",
    "import pandas as pd\n",
    "import matplotlib.pyplot as plt\n",
    "import seaborn as sns\n",
    "%matplotlib inline\n",
    "sns.set()\n",
    "import warnings\n",
    "warnings.filterwarnings('ignore')\n",
    "import os"
   ]
  },
  {
   "cell_type": "code",
   "execution_count": 3,
   "id": "c9e1e933",
   "metadata": {},
   "outputs": [],
   "source": [
    "amazon_credit = pd.read_csv('credits_Amazon.csv')\n",
    "amazon_title = pd.read_csv('titles_Amazon.csv')\n",
    "hotstar_credit = pd.read_csv('credits_Hotstar.csv')\n",
    "hotstar_title = pd.read_csv('titles_Hotstar.csv')\n",
    "netflix_credit = pd.read_csv('credits_Netflix.csv')\n",
    "netflix_titles = pd.read_csv('titles_Netflix.csv')\n",
    "paramount_credit = pd.read_csv('credits_Paramount.csv')\n",
    "paramount_title = pd.read_csv('titles_Paramount.csv')\n",
    "hbo_credit = pd.read_csv('credits_Hbo.csv')\n",
    "hbo_title = pd.read_csv('titles_Hbo.csv')\n",
    "apple_credit = pd.read_csv('credits_Apple.csv')\n",
    "apple_title = pd.read_csv('titles_Apple.csv')"
   ]
  },
  {
   "cell_type": "code",
   "execution_count": 4,
   "id": "3e7c50fc",
   "metadata": {},
   "outputs": [
    {
     "data": {
      "text/html": [
       "<div>\n",
       "<style scoped>\n",
       "    .dataframe tbody tr th:only-of-type {\n",
       "        vertical-align: middle;\n",
       "    }\n",
       "\n",
       "    .dataframe tbody tr th {\n",
       "        vertical-align: top;\n",
       "    }\n",
       "\n",
       "    .dataframe thead th {\n",
       "        text-align: right;\n",
       "    }\n",
       "</style>\n",
       "<table border=\"1\" class=\"dataframe\">\n",
       "  <thead>\n",
       "    <tr style=\"text-align: right;\">\n",
       "      <th></th>\n",
       "      <th>person_id</th>\n",
       "      <th>id</th>\n",
       "      <th>name</th>\n",
       "      <th>character</th>\n",
       "      <th>role</th>\n",
       "    </tr>\n",
       "  </thead>\n",
       "  <tbody>\n",
       "    <tr>\n",
       "      <th>0</th>\n",
       "      <td>25020</td>\n",
       "      <td>tm87233</td>\n",
       "      <td>James Stewart</td>\n",
       "      <td>George Bailey</td>\n",
       "      <td>ACTOR</td>\n",
       "    </tr>\n",
       "    <tr>\n",
       "      <th>1</th>\n",
       "      <td>26190</td>\n",
       "      <td>tm87233</td>\n",
       "      <td>Donna Reed</td>\n",
       "      <td>Mary Hatch</td>\n",
       "      <td>ACTOR</td>\n",
       "    </tr>\n",
       "  </tbody>\n",
       "</table>\n",
       "</div>"
      ],
      "text/plain": [
       "   person_id       id           name      character   role\n",
       "0      25020  tm87233  James Stewart  George Bailey  ACTOR\n",
       "1      26190  tm87233     Donna Reed     Mary Hatch  ACTOR"
      ]
     },
     "execution_count": 4,
     "metadata": {},
     "output_type": "execute_result"
    }
   ],
   "source": [
    "amazon_credit.head(2)"
   ]
  },
  {
   "cell_type": "code",
   "execution_count": 20,
   "id": "18f9e7ca",
   "metadata": {},
   "outputs": [
    {
     "data": {
      "text/html": [
       "<div>\n",
       "<style scoped>\n",
       "    .dataframe tbody tr th:only-of-type {\n",
       "        vertical-align: middle;\n",
       "    }\n",
       "\n",
       "    .dataframe tbody tr th {\n",
       "        vertical-align: top;\n",
       "    }\n",
       "\n",
       "    .dataframe thead th {\n",
       "        text-align: right;\n",
       "    }\n",
       "</style>\n",
       "<table border=\"1\" class=\"dataframe\">\n",
       "  <thead>\n",
       "    <tr style=\"text-align: right;\">\n",
       "      <th></th>\n",
       "      <th>id</th>\n",
       "      <th>title</th>\n",
       "      <th>type</th>\n",
       "      <th>description</th>\n",
       "      <th>release_year</th>\n",
       "      <th>age_certification</th>\n",
       "      <th>runtime</th>\n",
       "      <th>genres</th>\n",
       "      <th>production_countries</th>\n",
       "      <th>seasons</th>\n",
       "      <th>imdb_id</th>\n",
       "      <th>imdb_score</th>\n",
       "      <th>imdb_votes</th>\n",
       "      <th>tmdb_popularity</th>\n",
       "      <th>tmdb_score</th>\n",
       "    </tr>\n",
       "  </thead>\n",
       "  <tbody>\n",
       "    <tr>\n",
       "      <th>0</th>\n",
       "      <td>tm87233</td>\n",
       "      <td>It's a Wonderful Life</td>\n",
       "      <td>MOVIE</td>\n",
       "      <td>A holiday favourite for generations...  George...</td>\n",
       "      <td>1946</td>\n",
       "      <td>PG</td>\n",
       "      <td>130</td>\n",
       "      <td>['drama', 'family', 'fantasy', 'romance', 'com...</td>\n",
       "      <td>['US']</td>\n",
       "      <td>NaN</td>\n",
       "      <td>tt0038650</td>\n",
       "      <td>8.6</td>\n",
       "      <td>467766.0</td>\n",
       "      <td>27.611</td>\n",
       "      <td>8.261</td>\n",
       "    </tr>\n",
       "    <tr>\n",
       "      <th>1</th>\n",
       "      <td>tm143047</td>\n",
       "      <td>Duck Soup</td>\n",
       "      <td>MOVIE</td>\n",
       "      <td>Rufus T. Firefly is named president/dictator o...</td>\n",
       "      <td>1933</td>\n",
       "      <td>NaN</td>\n",
       "      <td>69</td>\n",
       "      <td>['comedy', 'war']</td>\n",
       "      <td>['US']</td>\n",
       "      <td>NaN</td>\n",
       "      <td>tt0023969</td>\n",
       "      <td>7.8</td>\n",
       "      <td>60933.0</td>\n",
       "      <td>9.013</td>\n",
       "      <td>7.357</td>\n",
       "    </tr>\n",
       "  </tbody>\n",
       "</table>\n",
       "</div>"
      ],
      "text/plain": [
       "         id                  title   type  \\\n",
       "0   tm87233  It's a Wonderful Life  MOVIE   \n",
       "1  tm143047              Duck Soup  MOVIE   \n",
       "\n",
       "                                         description  release_year  \\\n",
       "0  A holiday favourite for generations...  George...          1946   \n",
       "1  Rufus T. Firefly is named president/dictator o...          1933   \n",
       "\n",
       "  age_certification  runtime  \\\n",
       "0                PG      130   \n",
       "1               NaN       69   \n",
       "\n",
       "                                              genres production_countries  \\\n",
       "0  ['drama', 'family', 'fantasy', 'romance', 'com...               ['US']   \n",
       "1                                  ['comedy', 'war']               ['US']   \n",
       "\n",
       "   seasons    imdb_id  imdb_score  imdb_votes  tmdb_popularity  tmdb_score  \n",
       "0      NaN  tt0038650         8.6    467766.0           27.611       8.261  \n",
       "1      NaN  tt0023969         7.8     60933.0            9.013       7.357  "
      ]
     },
     "execution_count": 20,
     "metadata": {},
     "output_type": "execute_result"
    }
   ],
   "source": [
    "amazon_title.head(2)"
   ]
  },
  {
   "cell_type": "code",
   "execution_count": 27,
   "id": "98854246",
   "metadata": {
    "collapsed": true
   },
   "outputs": [
    {
     "name": "stdout",
     "output_type": "stream",
     "text": [
      "(140553, 5)\n",
      "(30689, 5)\n",
      "(81355, 5)\n",
      "(51195, 5)\n",
      "(64879, 5)\n",
      "(1875, 5)\n"
     ]
    }
   ],
   "source": [
    "credit_list = [amazon_credit,hotstar_credit,netflix_credit,paramount_credit,hbo_credit,apple_credit]\n",
    "for i in credit_list:\n",
    "    print(i.shape)"
   ]
  },
  {
   "cell_type": "code",
   "execution_count": 28,
   "id": "768adf4b",
   "metadata": {
    "collapsed": true
   },
   "outputs": [
    {
     "name": "stdout",
     "output_type": "stream",
     "text": [
      "(10873, 15)\n",
      "(1854, 15)\n",
      "(6137, 15)\n",
      "(3182, 15)\n",
      "(3030, 15)\n",
      "(170, 15)\n"
     ]
    }
   ],
   "source": [
    "title_list = [amazon_title,hotstar_title,netflix_titles,paramount_title,hbo_title,apple_title]\n",
    "for i in title_list:\n",
    "    print(i.shape)"
   ]
  },
  {
   "cell_type": "code",
   "execution_count": 30,
   "id": "ed89597b",
   "metadata": {},
   "outputs": [],
   "source": [
    "credits = pd.concat([amazon_credit,hotstar_credit,netflix_credit,paramount_credit,hbo_credit,apple_credit],axis = 0)"
   ]
  },
  {
   "cell_type": "code",
   "execution_count": 31,
   "id": "3d35894c",
   "metadata": {},
   "outputs": [
    {
     "data": {
      "text/plain": [
       "(370546, 5)"
      ]
     },
     "execution_count": 31,
     "metadata": {},
     "output_type": "execute_result"
    }
   ],
   "source": [
    "credits.shape"
   ]
  },
  {
   "cell_type": "code",
   "execution_count": 32,
   "id": "1c062686",
   "metadata": {},
   "outputs": [],
   "source": [
    "titles = pd.concat(title_list,axis=0)"
   ]
  },
  {
   "cell_type": "code",
   "execution_count": 33,
   "id": "a5d6ec91",
   "metadata": {},
   "outputs": [
    {
     "data": {
      "text/plain": [
       "(25246, 15)"
      ]
     },
     "execution_count": 33,
     "metadata": {},
     "output_type": "execute_result"
    }
   ],
   "source": [
    "titles.shape"
   ]
  },
  {
   "cell_type": "code",
   "execution_count": 37,
   "id": "5cd2075d",
   "metadata": {},
   "outputs": [
    {
     "data": {
      "text/plain": [
       "34605"
      ]
     },
     "execution_count": 37,
     "metadata": {},
     "output_type": "execute_result"
    }
   ],
   "source": [
    "credits.duplicated().sum()"
   ]
  },
  {
   "cell_type": "code",
   "execution_count": 40,
   "id": "b694f1d7",
   "metadata": {
    "collapsed": true
   },
   "outputs": [
    {
     "data": {
      "text/html": [
       "<div>\n",
       "<style scoped>\n",
       "    .dataframe tbody tr th:only-of-type {\n",
       "        vertical-align: middle;\n",
       "    }\n",
       "\n",
       "    .dataframe tbody tr th {\n",
       "        vertical-align: top;\n",
       "    }\n",
       "\n",
       "    .dataframe thead th {\n",
       "        text-align: right;\n",
       "    }\n",
       "</style>\n",
       "<table border=\"1\" class=\"dataframe\">\n",
       "  <thead>\n",
       "    <tr style=\"text-align: right;\">\n",
       "      <th></th>\n",
       "      <th>person_id</th>\n",
       "      <th>id</th>\n",
       "      <th>name</th>\n",
       "      <th>character</th>\n",
       "      <th>role</th>\n",
       "    </tr>\n",
       "  </thead>\n",
       "  <tbody>\n",
       "    <tr>\n",
       "      <th>4672</th>\n",
       "      <td>1305</td>\n",
       "      <td>tm57241</td>\n",
       "      <td>Drew Barrymore</td>\n",
       "      <td>Josie Geller</td>\n",
       "      <td>ACTOR</td>\n",
       "    </tr>\n",
       "    <tr>\n",
       "      <th>4673</th>\n",
       "      <td>906</td>\n",
       "      <td>tm57241</td>\n",
       "      <td>David Arquette</td>\n",
       "      <td>Rob Geller</td>\n",
       "      <td>ACTOR</td>\n",
       "    </tr>\n",
       "    <tr>\n",
       "      <th>4674</th>\n",
       "      <td>5151</td>\n",
       "      <td>tm57241</td>\n",
       "      <td>Molly Shannon</td>\n",
       "      <td>Anita</td>\n",
       "      <td>ACTOR</td>\n",
       "    </tr>\n",
       "    <tr>\n",
       "      <th>4675</th>\n",
       "      <td>33832</td>\n",
       "      <td>tm57241</td>\n",
       "      <td>Michael Vartan</td>\n",
       "      <td>Sam Coulson</td>\n",
       "      <td>ACTOR</td>\n",
       "    </tr>\n",
       "    <tr>\n",
       "      <th>4676</th>\n",
       "      <td>5256</td>\n",
       "      <td>tm57241</td>\n",
       "      <td>Jessica Alba</td>\n",
       "      <td>Kirsten</td>\n",
       "      <td>ACTOR</td>\n",
       "    </tr>\n",
       "  </tbody>\n",
       "</table>\n",
       "</div>"
      ],
      "text/plain": [
       "      person_id       id            name     character   role\n",
       "4672       1305  tm57241  Drew Barrymore  Josie Geller  ACTOR\n",
       "4673        906  tm57241  David Arquette    Rob Geller  ACTOR\n",
       "4674       5151  tm57241   Molly Shannon         Anita  ACTOR\n",
       "4675      33832  tm57241  Michael Vartan   Sam Coulson  ACTOR\n",
       "4676       5256  tm57241    Jessica Alba       Kirsten  ACTOR"
      ]
     },
     "execution_count": 40,
     "metadata": {},
     "output_type": "execute_result"
    }
   ],
   "source": [
    "credits[credits.duplicated()].head()"
   ]
  },
  {
   "cell_type": "code",
   "execution_count": 41,
   "id": "a1081725",
   "metadata": {},
   "outputs": [],
   "source": [
    "credits.drop_duplicates(inplace = True)"
   ]
  },
  {
   "cell_type": "code",
   "execution_count": 42,
   "id": "87074f3e",
   "metadata": {},
   "outputs": [
    {
     "data": {
      "text/plain": [
       "(335941, 5)"
      ]
     },
     "execution_count": 42,
     "metadata": {},
     "output_type": "execute_result"
    }
   ],
   "source": [
    "credits.shape"
   ]
  },
  {
   "cell_type": "code",
   "execution_count": 43,
   "id": "6e0a6fd9",
   "metadata": {},
   "outputs": [
    {
     "data": {
      "text/plain": [
       "1884"
      ]
     },
     "execution_count": 43,
     "metadata": {},
     "output_type": "execute_result"
    }
   ],
   "source": [
    "titles.duplicated().sum()"
   ]
  },
  {
   "cell_type": "code",
   "execution_count": 44,
   "id": "0962429b",
   "metadata": {},
   "outputs": [],
   "source": [
    "titles.drop_duplicates(inplace = True)"
   ]
  },
  {
   "cell_type": "code",
   "execution_count": 45,
   "id": "b7915f94",
   "metadata": {},
   "outputs": [
    {
     "data": {
      "text/plain": [
       "(23362, 15)"
      ]
     },
     "execution_count": 45,
     "metadata": {},
     "output_type": "execute_result"
    }
   ],
   "source": [
    "titles.shape"
   ]
  },
  {
   "cell_type": "code",
   "execution_count": 59,
   "id": "0152c4b7",
   "metadata": {},
   "outputs": [
    {
     "data": {
      "text/plain": [
       "id                          0\n",
       "title                       0\n",
       "type                        0\n",
       "description               195\n",
       "release_year                0\n",
       "age_certification       11981\n",
       "runtime                     0\n",
       "genres                      0\n",
       "production_countries        0\n",
       "seasons                 17739\n",
       "imdb_id                  1950\n",
       "imdb_score               2558\n",
       "imdb_votes               2618\n",
       "tmdb_popularity           720\n",
       "tmdb_score               3000\n",
       "dtype: int64"
      ]
     },
     "execution_count": 59,
     "metadata": {},
     "output_type": "execute_result"
    }
   ],
   "source": [
    "titles.isnull().sum()"
   ]
  },
  {
   "cell_type": "code",
   "execution_count": null,
   "id": "593460be",
   "metadata": {},
   "outputs": [],
   "source": []
  },
  {
   "cell_type": "code",
   "execution_count": null,
   "id": "e87db9d5",
   "metadata": {},
   "outputs": [],
   "source": []
  },
  {
   "cell_type": "code",
   "execution_count": null,
   "id": "3c944ead",
   "metadata": {},
   "outputs": [],
   "source": []
  },
  {
   "cell_type": "code",
   "execution_count": 49,
   "id": "6eaca83b",
   "metadata": {},
   "outputs": [],
   "source": [
    "df = pd.merge(titles,credits,on = 'id',how = 'outer')"
   ]
  },
  {
   "cell_type": "code",
   "execution_count": 50,
   "id": "bef5567c",
   "metadata": {},
   "outputs": [
    {
     "data": {
      "text/plain": [
       "(337899, 19)"
      ]
     },
     "execution_count": 50,
     "metadata": {},
     "output_type": "execute_result"
    }
   ],
   "source": [
    "df.shape"
   ]
  },
  {
   "cell_type": "code",
   "execution_count": 55,
   "id": "262bffdf",
   "metadata": {
    "collapsed": true
   },
   "outputs": [
    {
     "data": {
      "text/html": [
       "<div>\n",
       "<style scoped>\n",
       "    .dataframe tbody tr th:only-of-type {\n",
       "        vertical-align: middle;\n",
       "    }\n",
       "\n",
       "    .dataframe tbody tr th {\n",
       "        vertical-align: top;\n",
       "    }\n",
       "\n",
       "    .dataframe thead th {\n",
       "        text-align: right;\n",
       "    }\n",
       "</style>\n",
       "<table border=\"1\" class=\"dataframe\">\n",
       "  <thead>\n",
       "    <tr style=\"text-align: right;\">\n",
       "      <th></th>\n",
       "      <th>id</th>\n",
       "      <th>title</th>\n",
       "      <th>type</th>\n",
       "      <th>description</th>\n",
       "      <th>release_year</th>\n",
       "      <th>age_certification</th>\n",
       "      <th>runtime</th>\n",
       "      <th>genres</th>\n",
       "      <th>production_countries</th>\n",
       "      <th>seasons</th>\n",
       "      <th>imdb_id</th>\n",
       "      <th>imdb_score</th>\n",
       "      <th>imdb_votes</th>\n",
       "      <th>tmdb_popularity</th>\n",
       "      <th>tmdb_score</th>\n",
       "      <th>person_id</th>\n",
       "      <th>name</th>\n",
       "      <th>character</th>\n",
       "      <th>role</th>\n",
       "    </tr>\n",
       "  </thead>\n",
       "  <tbody>\n",
       "    <tr>\n",
       "      <th>0</th>\n",
       "      <td>tm87233</td>\n",
       "      <td>It's a Wonderful Life</td>\n",
       "      <td>MOVIE</td>\n",
       "      <td>A holiday favourite for generations...  George...</td>\n",
       "      <td>1946</td>\n",
       "      <td>PG</td>\n",
       "      <td>130</td>\n",
       "      <td>['drama', 'family', 'fantasy', 'romance', 'com...</td>\n",
       "      <td>['US']</td>\n",
       "      <td>NaN</td>\n",
       "      <td>tt0038650</td>\n",
       "      <td>8.6</td>\n",
       "      <td>467766.0</td>\n",
       "      <td>27.611</td>\n",
       "      <td>8.261</td>\n",
       "      <td>25020.0</td>\n",
       "      <td>James Stewart</td>\n",
       "      <td>George Bailey</td>\n",
       "      <td>ACTOR</td>\n",
       "    </tr>\n",
       "    <tr>\n",
       "      <th>1</th>\n",
       "      <td>tm87233</td>\n",
       "      <td>It's a Wonderful Life</td>\n",
       "      <td>MOVIE</td>\n",
       "      <td>A holiday favourite for generations...  George...</td>\n",
       "      <td>1946</td>\n",
       "      <td>PG</td>\n",
       "      <td>130</td>\n",
       "      <td>['drama', 'family', 'fantasy', 'romance', 'com...</td>\n",
       "      <td>['US']</td>\n",
       "      <td>NaN</td>\n",
       "      <td>tt0038650</td>\n",
       "      <td>8.6</td>\n",
       "      <td>467766.0</td>\n",
       "      <td>27.611</td>\n",
       "      <td>8.261</td>\n",
       "      <td>26190.0</td>\n",
       "      <td>Donna Reed</td>\n",
       "      <td>Mary Hatch</td>\n",
       "      <td>ACTOR</td>\n",
       "    </tr>\n",
       "    <tr>\n",
       "      <th>2</th>\n",
       "      <td>tm87233</td>\n",
       "      <td>It's a Wonderful Life</td>\n",
       "      <td>MOVIE</td>\n",
       "      <td>A holiday favourite for generations...  George...</td>\n",
       "      <td>1946</td>\n",
       "      <td>PG</td>\n",
       "      <td>130</td>\n",
       "      <td>['drama', 'family', 'fantasy', 'romance', 'com...</td>\n",
       "      <td>['US']</td>\n",
       "      <td>NaN</td>\n",
       "      <td>tt0038650</td>\n",
       "      <td>8.6</td>\n",
       "      <td>467766.0</td>\n",
       "      <td>27.611</td>\n",
       "      <td>8.261</td>\n",
       "      <td>25653.0</td>\n",
       "      <td>Lionel Barrymore</td>\n",
       "      <td>Mr. Potter</td>\n",
       "      <td>ACTOR</td>\n",
       "    </tr>\n",
       "    <tr>\n",
       "      <th>3</th>\n",
       "      <td>tm87233</td>\n",
       "      <td>It's a Wonderful Life</td>\n",
       "      <td>MOVIE</td>\n",
       "      <td>A holiday favourite for generations...  George...</td>\n",
       "      <td>1946</td>\n",
       "      <td>PG</td>\n",
       "      <td>130</td>\n",
       "      <td>['drama', 'family', 'fantasy', 'romance', 'com...</td>\n",
       "      <td>['US']</td>\n",
       "      <td>NaN</td>\n",
       "      <td>tt0038650</td>\n",
       "      <td>8.6</td>\n",
       "      <td>467766.0</td>\n",
       "      <td>27.611</td>\n",
       "      <td>8.261</td>\n",
       "      <td>13301.0</td>\n",
       "      <td>Thomas Mitchell</td>\n",
       "      <td>Uncle Billy</td>\n",
       "      <td>ACTOR</td>\n",
       "    </tr>\n",
       "    <tr>\n",
       "      <th>4</th>\n",
       "      <td>tm87233</td>\n",
       "      <td>It's a Wonderful Life</td>\n",
       "      <td>MOVIE</td>\n",
       "      <td>A holiday favourite for generations...  George...</td>\n",
       "      <td>1946</td>\n",
       "      <td>PG</td>\n",
       "      <td>130</td>\n",
       "      <td>['drama', 'family', 'fantasy', 'romance', 'com...</td>\n",
       "      <td>['US']</td>\n",
       "      <td>NaN</td>\n",
       "      <td>tt0038650</td>\n",
       "      <td>8.6</td>\n",
       "      <td>467766.0</td>\n",
       "      <td>27.611</td>\n",
       "      <td>8.261</td>\n",
       "      <td>34171.0</td>\n",
       "      <td>Henry Travers</td>\n",
       "      <td>Clarence</td>\n",
       "      <td>ACTOR</td>\n",
       "    </tr>\n",
       "  </tbody>\n",
       "</table>\n",
       "</div>"
      ],
      "text/plain": [
       "        id                  title   type  \\\n",
       "0  tm87233  It's a Wonderful Life  MOVIE   \n",
       "1  tm87233  It's a Wonderful Life  MOVIE   \n",
       "2  tm87233  It's a Wonderful Life  MOVIE   \n",
       "3  tm87233  It's a Wonderful Life  MOVIE   \n",
       "4  tm87233  It's a Wonderful Life  MOVIE   \n",
       "\n",
       "                                         description  release_year  \\\n",
       "0  A holiday favourite for generations...  George...          1946   \n",
       "1  A holiday favourite for generations...  George...          1946   \n",
       "2  A holiday favourite for generations...  George...          1946   \n",
       "3  A holiday favourite for generations...  George...          1946   \n",
       "4  A holiday favourite for generations...  George...          1946   \n",
       "\n",
       "  age_certification  runtime  \\\n",
       "0                PG      130   \n",
       "1                PG      130   \n",
       "2                PG      130   \n",
       "3                PG      130   \n",
       "4                PG      130   \n",
       "\n",
       "                                              genres production_countries  \\\n",
       "0  ['drama', 'family', 'fantasy', 'romance', 'com...               ['US']   \n",
       "1  ['drama', 'family', 'fantasy', 'romance', 'com...               ['US']   \n",
       "2  ['drama', 'family', 'fantasy', 'romance', 'com...               ['US']   \n",
       "3  ['drama', 'family', 'fantasy', 'romance', 'com...               ['US']   \n",
       "4  ['drama', 'family', 'fantasy', 'romance', 'com...               ['US']   \n",
       "\n",
       "   seasons    imdb_id  imdb_score  imdb_votes  tmdb_popularity  tmdb_score  \\\n",
       "0      NaN  tt0038650         8.6    467766.0           27.611       8.261   \n",
       "1      NaN  tt0038650         8.6    467766.0           27.611       8.261   \n",
       "2      NaN  tt0038650         8.6    467766.0           27.611       8.261   \n",
       "3      NaN  tt0038650         8.6    467766.0           27.611       8.261   \n",
       "4      NaN  tt0038650         8.6    467766.0           27.611       8.261   \n",
       "\n",
       "   person_id              name      character   role  \n",
       "0    25020.0     James Stewart  George Bailey  ACTOR  \n",
       "1    26190.0        Donna Reed     Mary Hatch  ACTOR  \n",
       "2    25653.0  Lionel Barrymore     Mr. Potter  ACTOR  \n",
       "3    13301.0   Thomas Mitchell    Uncle Billy  ACTOR  \n",
       "4    34171.0     Henry Travers       Clarence  ACTOR  "
      ]
     },
     "execution_count": 55,
     "metadata": {},
     "output_type": "execute_result"
    }
   ],
   "source": [
    "df.head()"
   ]
  },
  {
   "cell_type": "code",
   "execution_count": 56,
   "id": "c5757f74",
   "metadata": {
    "collapsed": true
   },
   "outputs": [
    {
     "data": {
      "text/html": [
       "<div>\n",
       "<style scoped>\n",
       "    .dataframe tbody tr th:only-of-type {\n",
       "        vertical-align: middle;\n",
       "    }\n",
       "\n",
       "    .dataframe tbody tr th {\n",
       "        vertical-align: top;\n",
       "    }\n",
       "\n",
       "    .dataframe thead th {\n",
       "        text-align: right;\n",
       "    }\n",
       "</style>\n",
       "<table border=\"1\" class=\"dataframe\">\n",
       "  <thead>\n",
       "    <tr style=\"text-align: right;\">\n",
       "      <th></th>\n",
       "      <th>id</th>\n",
       "      <th>title</th>\n",
       "      <th>type</th>\n",
       "      <th>description</th>\n",
       "      <th>release_year</th>\n",
       "      <th>age_certification</th>\n",
       "      <th>runtime</th>\n",
       "      <th>genres</th>\n",
       "      <th>production_countries</th>\n",
       "      <th>seasons</th>\n",
       "      <th>imdb_id</th>\n",
       "      <th>imdb_score</th>\n",
       "      <th>imdb_votes</th>\n",
       "      <th>tmdb_popularity</th>\n",
       "      <th>tmdb_score</th>\n",
       "      <th>person_id</th>\n",
       "      <th>name</th>\n",
       "      <th>character</th>\n",
       "      <th>role</th>\n",
       "    </tr>\n",
       "  </thead>\n",
       "  <tbody>\n",
       "    <tr>\n",
       "      <th>337894</th>\n",
       "      <td>ts374301</td>\n",
       "      <td>Super League: The War For Football</td>\n",
       "      <td>SHOW</td>\n",
       "      <td>The past, present, and future of European foot...</td>\n",
       "      <td>2023</td>\n",
       "      <td>TV-MA</td>\n",
       "      <td>0</td>\n",
       "      <td>['documentation', 'sport']</td>\n",
       "      <td>['US']</td>\n",
       "      <td>1.0</td>\n",
       "      <td>tt24587530</td>\n",
       "      <td>7.4</td>\n",
       "      <td>414.0</td>\n",
       "      <td>6.800</td>\n",
       "      <td>6.7</td>\n",
       "      <td>NaN</td>\n",
       "      <td>NaN</td>\n",
       "      <td>NaN</td>\n",
       "      <td>NaN</td>\n",
       "    </tr>\n",
       "    <tr>\n",
       "      <th>337895</th>\n",
       "      <td>ts377681</td>\n",
       "      <td>Shape Island</td>\n",
       "      <td>SHOW</td>\n",
       "      <td>On a charming island, Square, Triangle, and Ci...</td>\n",
       "      <td>2023</td>\n",
       "      <td>TV-G</td>\n",
       "      <td>24</td>\n",
       "      <td>['family', 'animation', 'fantasy', 'comedy']</td>\n",
       "      <td>['US']</td>\n",
       "      <td>1.0</td>\n",
       "      <td>tt25515858</td>\n",
       "      <td>7.6</td>\n",
       "      <td>121.0</td>\n",
       "      <td>18.529</td>\n",
       "      <td>9.2</td>\n",
       "      <td>677278.0</td>\n",
       "      <td>Gideon Adlon</td>\n",
       "      <td>Circle (voice)</td>\n",
       "      <td>ACTOR</td>\n",
       "    </tr>\n",
       "    <tr>\n",
       "      <th>337896</th>\n",
       "      <td>ts377681</td>\n",
       "      <td>Shape Island</td>\n",
       "      <td>SHOW</td>\n",
       "      <td>On a charming island, Square, Triangle, and Ci...</td>\n",
       "      <td>2023</td>\n",
       "      <td>TV-G</td>\n",
       "      <td>24</td>\n",
       "      <td>['family', 'animation', 'fantasy', 'comedy']</td>\n",
       "      <td>['US']</td>\n",
       "      <td>1.0</td>\n",
       "      <td>tt25515858</td>\n",
       "      <td>7.6</td>\n",
       "      <td>121.0</td>\n",
       "      <td>18.529</td>\n",
       "      <td>9.2</td>\n",
       "      <td>7103.0</td>\n",
       "      <td>Scott Adsit</td>\n",
       "      <td>Triangle (voice)</td>\n",
       "      <td>ACTOR</td>\n",
       "    </tr>\n",
       "    <tr>\n",
       "      <th>337897</th>\n",
       "      <td>ts377681</td>\n",
       "      <td>Shape Island</td>\n",
       "      <td>SHOW</td>\n",
       "      <td>On a charming island, Square, Triangle, and Ci...</td>\n",
       "      <td>2023</td>\n",
       "      <td>TV-G</td>\n",
       "      <td>24</td>\n",
       "      <td>['family', 'animation', 'fantasy', 'comedy']</td>\n",
       "      <td>['US']</td>\n",
       "      <td>1.0</td>\n",
       "      <td>tt25515858</td>\n",
       "      <td>7.6</td>\n",
       "      <td>121.0</td>\n",
       "      <td>18.529</td>\n",
       "      <td>9.2</td>\n",
       "      <td>56160.0</td>\n",
       "      <td>Harvey Guillén</td>\n",
       "      <td>Square (voice)</td>\n",
       "      <td>ACTOR</td>\n",
       "    </tr>\n",
       "    <tr>\n",
       "      <th>337898</th>\n",
       "      <td>ts377681</td>\n",
       "      <td>Shape Island</td>\n",
       "      <td>SHOW</td>\n",
       "      <td>On a charming island, Square, Triangle, and Ci...</td>\n",
       "      <td>2023</td>\n",
       "      <td>TV-G</td>\n",
       "      <td>24</td>\n",
       "      <td>['family', 'animation', 'fantasy', 'comedy']</td>\n",
       "      <td>['US']</td>\n",
       "      <td>1.0</td>\n",
       "      <td>tt25515858</td>\n",
       "      <td>7.6</td>\n",
       "      <td>121.0</td>\n",
       "      <td>18.529</td>\n",
       "      <td>9.2</td>\n",
       "      <td>12386.0</td>\n",
       "      <td>Yvette Nicole Brown</td>\n",
       "      <td>Narrator (voice)</td>\n",
       "      <td>ACTOR</td>\n",
       "    </tr>\n",
       "  </tbody>\n",
       "</table>\n",
       "</div>"
      ],
      "text/plain": [
       "              id                               title  type  \\\n",
       "337894  ts374301  Super League: The War For Football  SHOW   \n",
       "337895  ts377681                        Shape Island  SHOW   \n",
       "337896  ts377681                        Shape Island  SHOW   \n",
       "337897  ts377681                        Shape Island  SHOW   \n",
       "337898  ts377681                        Shape Island  SHOW   \n",
       "\n",
       "                                              description  release_year  \\\n",
       "337894  The past, present, and future of European foot...          2023   \n",
       "337895  On a charming island, Square, Triangle, and Ci...          2023   \n",
       "337896  On a charming island, Square, Triangle, and Ci...          2023   \n",
       "337897  On a charming island, Square, Triangle, and Ci...          2023   \n",
       "337898  On a charming island, Square, Triangle, and Ci...          2023   \n",
       "\n",
       "       age_certification  runtime  \\\n",
       "337894             TV-MA        0   \n",
       "337895              TV-G       24   \n",
       "337896              TV-G       24   \n",
       "337897              TV-G       24   \n",
       "337898              TV-G       24   \n",
       "\n",
       "                                              genres production_countries  \\\n",
       "337894                    ['documentation', 'sport']               ['US']   \n",
       "337895  ['family', 'animation', 'fantasy', 'comedy']               ['US']   \n",
       "337896  ['family', 'animation', 'fantasy', 'comedy']               ['US']   \n",
       "337897  ['family', 'animation', 'fantasy', 'comedy']               ['US']   \n",
       "337898  ['family', 'animation', 'fantasy', 'comedy']               ['US']   \n",
       "\n",
       "        seasons     imdb_id  imdb_score  imdb_votes  tmdb_popularity  \\\n",
       "337894      1.0  tt24587530         7.4       414.0            6.800   \n",
       "337895      1.0  tt25515858         7.6       121.0           18.529   \n",
       "337896      1.0  tt25515858         7.6       121.0           18.529   \n",
       "337897      1.0  tt25515858         7.6       121.0           18.529   \n",
       "337898      1.0  tt25515858         7.6       121.0           18.529   \n",
       "\n",
       "        tmdb_score  person_id                 name         character   role  \n",
       "337894         6.7        NaN                  NaN               NaN    NaN  \n",
       "337895         9.2   677278.0         Gideon Adlon    Circle (voice)  ACTOR  \n",
       "337896         9.2     7103.0          Scott Adsit  Triangle (voice)  ACTOR  \n",
       "337897         9.2    56160.0       Harvey Guillén    Square (voice)  ACTOR  \n",
       "337898         9.2    12386.0  Yvette Nicole Brown  Narrator (voice)  ACTOR  "
      ]
     },
     "execution_count": 56,
     "metadata": {},
     "output_type": "execute_result"
    }
   ],
   "source": [
    "df.tail()"
   ]
  },
  {
   "cell_type": "code",
   "execution_count": 58,
   "id": "51247a7e",
   "metadata": {},
   "outputs": [
    {
     "name": "stdout",
     "output_type": "stream",
     "text": [
      "<class 'pandas.core.frame.DataFrame'>\n",
      "Int64Index: 337899 entries, 0 to 337898\n",
      "Data columns (total 19 columns):\n",
      " #   Column                Non-Null Count   Dtype  \n",
      "---  ------                --------------   -----  \n",
      " 0   id                    337899 non-null  object \n",
      " 1   title                 337899 non-null  object \n",
      " 2   type                  337899 non-null  object \n",
      " 3   description           337448 non-null  object \n",
      " 4   release_year          337899 non-null  int64  \n",
      " 5   age_certification     202737 non-null  object \n",
      " 6   runtime               337899 non-null  int64  \n",
      " 7   genres                337899 non-null  object \n",
      " 8   production_countries  337899 non-null  object \n",
      " 9   seasons               35957 non-null   float64\n",
      " 10  imdb_id               321958 non-null  object \n",
      " 11  imdb_score            319863 non-null  float64\n",
      " 12  imdb_votes            319418 non-null  float64\n",
      " 13  tmdb_popularity       337153 non-null  float64\n",
      " 14  tmdb_score            324390 non-null  float64\n",
      " 15  person_id             336023 non-null  float64\n",
      " 16  name                  336023 non-null  object \n",
      " 17  character             299987 non-null  object \n",
      " 18  role                  336023 non-null  object \n",
      "dtypes: float64(6), int64(2), object(11)\n",
      "memory usage: 51.6+ MB\n"
     ]
    }
   ],
   "source": [
    "df.info()"
   ]
  },
  {
   "cell_type": "code",
   "execution_count": 62,
   "id": "846f40b1",
   "metadata": {},
   "outputs": [
    {
     "data": {
      "text/plain": [
       "array(['MOVIE', 'SHOW'], dtype=object)"
      ]
     },
     "execution_count": 62,
     "metadata": {},
     "output_type": "execute_result"
    }
   ],
   "source": [
    "df.type.unique()"
   ]
  },
  {
   "cell_type": "code",
   "execution_count": 68,
   "id": "bbae25a4",
   "metadata": {},
   "outputs": [
    {
     "data": {
      "text/plain": [
       "type\n",
       "MOVIE        0\n",
       "SHOW     35957\n",
       "Name: seasons, dtype: int64"
      ]
     },
     "execution_count": 68,
     "metadata": {},
     "output_type": "execute_result"
    }
   ],
   "source": [
    "df.groupby('type').seasons.count()"
   ]
  },
  {
   "cell_type": "code",
   "execution_count": null,
   "id": "9bdbc6a4",
   "metadata": {},
   "outputs": [],
   "source": [
    "# This shows that missing values in season is from Movie section only"
   ]
  },
  {
   "cell_type": "code",
   "execution_count": 69,
   "id": "2101a582",
   "metadata": {},
   "outputs": [],
   "source": [
    "df.seasons.fillna(0,inplace = True)"
   ]
  },
  {
   "cell_type": "code",
   "execution_count": 75,
   "id": "3dbed804",
   "metadata": {},
   "outputs": [
    {
     "data": {
      "text/plain": [
       "id                          0\n",
       "title                       0\n",
       "type                        0\n",
       "description               451\n",
       "release_year                0\n",
       "runtime                     0\n",
       "genres                      0\n",
       "production_countries        0\n",
       "seasons                     0\n",
       "imdb_id                 15941\n",
       "imdb_score              18036\n",
       "imdb_votes              18481\n",
       "tmdb_popularity           746\n",
       "tmdb_score              13509\n",
       "person_id                1876\n",
       "name                     1876\n",
       "character               37912\n",
       "role                     1876\n",
       "dtype: int64"
      ]
     },
     "execution_count": 75,
     "metadata": {},
     "output_type": "execute_result"
    }
   ],
   "source": [
    "df.isnull().sum()"
   ]
  },
  {
   "cell_type": "code",
   "execution_count": 74,
   "id": "86ad9f87",
   "metadata": {},
   "outputs": [],
   "source": [
    "df.drop(['age_certification'],axis = 1,inplace = True)"
   ]
  },
  {
   "cell_type": "code",
   "execution_count": 76,
   "id": "2e651ed7",
   "metadata": {},
   "outputs": [
    {
     "data": {
      "text/plain": [
       "id                       0.000000\n",
       "title                    0.000000\n",
       "type                     0.000000\n",
       "description              0.133472\n",
       "release_year             0.000000\n",
       "runtime                  0.000000\n",
       "genres                   0.000000\n",
       "production_countries     0.000000\n",
       "seasons                  0.000000\n",
       "imdb_id                  4.717682\n",
       "imdb_score               5.337690\n",
       "imdb_votes               5.469386\n",
       "tmdb_popularity          0.220776\n",
       "tmdb_score               3.997940\n",
       "person_id                0.555195\n",
       "name                     0.555195\n",
       "character               11.219921\n",
       "role                     0.555195\n",
       "dtype: float64"
      ]
     },
     "execution_count": 76,
     "metadata": {},
     "output_type": "execute_result"
    }
   ],
   "source": [
    "df.isnull().sum()/len(df)*100"
   ]
  },
  {
   "cell_type": "code",
   "execution_count": 77,
   "id": "92a23238",
   "metadata": {},
   "outputs": [],
   "source": [
    "df1 = df.copy()"
   ]
  },
  {
   "cell_type": "code",
   "execution_count": 152,
   "id": "d59fee27",
   "metadata": {},
   "outputs": [],
   "source": [
    "df = df1.copy()"
   ]
  },
  {
   "cell_type": "code",
   "execution_count": 153,
   "id": "ba3d8566",
   "metadata": {},
   "outputs": [
    {
     "data": {
      "text/plain": [
       "(337899, 18)"
      ]
     },
     "execution_count": 153,
     "metadata": {},
     "output_type": "execute_result"
    }
   ],
   "source": [
    "df1.shape"
   ]
  },
  {
   "cell_type": "code",
   "execution_count": 154,
   "id": "2ef02b29",
   "metadata": {},
   "outputs": [
    {
     "data": {
      "text/plain": [
       "(337899, 18)"
      ]
     },
     "execution_count": 154,
     "metadata": {},
     "output_type": "execute_result"
    }
   ],
   "source": [
    "df.shape"
   ]
  },
  {
   "cell_type": "code",
   "execution_count": 155,
   "id": "a036f7ab",
   "metadata": {},
   "outputs": [],
   "source": [
    "df.dropna(inplace = True)"
   ]
  },
  {
   "cell_type": "code",
   "execution_count": 177,
   "id": "3b69973b",
   "metadata": {},
   "outputs": [
    {
     "data": {
      "text/plain": [
       "82.13253072663726"
      ]
     },
     "execution_count": 177,
     "metadata": {},
     "output_type": "execute_result"
    }
   ],
   "source": [
    "df.shape[0]/df1.shape[0]*100"
   ]
  },
  {
   "cell_type": "code",
   "execution_count": 157,
   "id": "25fe2ca2",
   "metadata": {},
   "outputs": [],
   "source": [
    "# We have 82.4% of data"
   ]
  },
  {
   "cell_type": "code",
   "execution_count": 158,
   "id": "bbb67971",
   "metadata": {},
   "outputs": [
    {
     "data": {
      "text/html": [
       "<div>\n",
       "<style scoped>\n",
       "    .dataframe tbody tr th:only-of-type {\n",
       "        vertical-align: middle;\n",
       "    }\n",
       "\n",
       "    .dataframe tbody tr th {\n",
       "        vertical-align: top;\n",
       "    }\n",
       "\n",
       "    .dataframe thead th {\n",
       "        text-align: right;\n",
       "    }\n",
       "</style>\n",
       "<table border=\"1\" class=\"dataframe\">\n",
       "  <thead>\n",
       "    <tr style=\"text-align: right;\">\n",
       "      <th></th>\n",
       "      <th>id</th>\n",
       "      <th>title</th>\n",
       "      <th>type</th>\n",
       "      <th>description</th>\n",
       "      <th>release_year</th>\n",
       "      <th>runtime</th>\n",
       "      <th>genres</th>\n",
       "      <th>production_countries</th>\n",
       "      <th>seasons</th>\n",
       "      <th>imdb_id</th>\n",
       "      <th>imdb_score</th>\n",
       "      <th>imdb_votes</th>\n",
       "      <th>tmdb_popularity</th>\n",
       "      <th>tmdb_score</th>\n",
       "      <th>person_id</th>\n",
       "      <th>name</th>\n",
       "      <th>character</th>\n",
       "      <th>role</th>\n",
       "    </tr>\n",
       "  </thead>\n",
       "  <tbody>\n",
       "    <tr>\n",
       "      <th>0</th>\n",
       "      <td>tm87233</td>\n",
       "      <td>It's a Wonderful Life</td>\n",
       "      <td>MOVIE</td>\n",
       "      <td>A holiday favourite for generations...  George...</td>\n",
       "      <td>1946</td>\n",
       "      <td>130</td>\n",
       "      <td>['drama', 'family', 'fantasy', 'romance', 'com...</td>\n",
       "      <td>['US']</td>\n",
       "      <td>0.0</td>\n",
       "      <td>tt0038650</td>\n",
       "      <td>8.6</td>\n",
       "      <td>467766.0</td>\n",
       "      <td>27.611</td>\n",
       "      <td>8.261</td>\n",
       "      <td>25020.0</td>\n",
       "      <td>James Stewart</td>\n",
       "      <td>George Bailey</td>\n",
       "      <td>ACTOR</td>\n",
       "    </tr>\n",
       "    <tr>\n",
       "      <th>1</th>\n",
       "      <td>tm87233</td>\n",
       "      <td>It's a Wonderful Life</td>\n",
       "      <td>MOVIE</td>\n",
       "      <td>A holiday favourite for generations...  George...</td>\n",
       "      <td>1946</td>\n",
       "      <td>130</td>\n",
       "      <td>['drama', 'family', 'fantasy', 'romance', 'com...</td>\n",
       "      <td>['US']</td>\n",
       "      <td>0.0</td>\n",
       "      <td>tt0038650</td>\n",
       "      <td>8.6</td>\n",
       "      <td>467766.0</td>\n",
       "      <td>27.611</td>\n",
       "      <td>8.261</td>\n",
       "      <td>26190.0</td>\n",
       "      <td>Donna Reed</td>\n",
       "      <td>Mary Hatch</td>\n",
       "      <td>ACTOR</td>\n",
       "    </tr>\n",
       "  </tbody>\n",
       "</table>\n",
       "</div>"
      ],
      "text/plain": [
       "        id                  title   type  \\\n",
       "0  tm87233  It's a Wonderful Life  MOVIE   \n",
       "1  tm87233  It's a Wonderful Life  MOVIE   \n",
       "\n",
       "                                         description  release_year  runtime  \\\n",
       "0  A holiday favourite for generations...  George...          1946      130   \n",
       "1  A holiday favourite for generations...  George...          1946      130   \n",
       "\n",
       "                                              genres production_countries  \\\n",
       "0  ['drama', 'family', 'fantasy', 'romance', 'com...               ['US']   \n",
       "1  ['drama', 'family', 'fantasy', 'romance', 'com...               ['US']   \n",
       "\n",
       "   seasons    imdb_id  imdb_score  imdb_votes  tmdb_popularity  tmdb_score  \\\n",
       "0      0.0  tt0038650         8.6    467766.0           27.611       8.261   \n",
       "1      0.0  tt0038650         8.6    467766.0           27.611       8.261   \n",
       "\n",
       "   person_id           name      character   role  \n",
       "0    25020.0  James Stewart  George Bailey  ACTOR  \n",
       "1    26190.0     Donna Reed     Mary Hatch  ACTOR  "
      ]
     },
     "execution_count": 158,
     "metadata": {},
     "output_type": "execute_result"
    }
   ],
   "source": [
    "df.head(2)"
   ]
  },
  {
   "cell_type": "code",
   "execution_count": 159,
   "id": "aa79bcd1",
   "metadata": {},
   "outputs": [],
   "source": [
    "df.drop(['id','imdb_id'],axis = 1,inplace = True)"
   ]
  },
  {
   "cell_type": "code",
   "execution_count": 163,
   "id": "aa28fdef",
   "metadata": {},
   "outputs": [
    {
     "data": {
      "text/html": [
       "<div>\n",
       "<style scoped>\n",
       "    .dataframe tbody tr th:only-of-type {\n",
       "        vertical-align: middle;\n",
       "    }\n",
       "\n",
       "    .dataframe tbody tr th {\n",
       "        vertical-align: top;\n",
       "    }\n",
       "\n",
       "    .dataframe thead th {\n",
       "        text-align: right;\n",
       "    }\n",
       "</style>\n",
       "<table border=\"1\" class=\"dataframe\">\n",
       "  <thead>\n",
       "    <tr style=\"text-align: right;\">\n",
       "      <th></th>\n",
       "      <th>title</th>\n",
       "      <th>type</th>\n",
       "      <th>description</th>\n",
       "      <th>release_year</th>\n",
       "      <th>runtime</th>\n",
       "      <th>genres</th>\n",
       "      <th>production_countries</th>\n",
       "      <th>seasons</th>\n",
       "      <th>imdb_score</th>\n",
       "      <th>imdb_votes</th>\n",
       "      <th>tmdb_popularity</th>\n",
       "      <th>tmdb_score</th>\n",
       "      <th>person_id</th>\n",
       "      <th>name</th>\n",
       "      <th>character</th>\n",
       "      <th>role</th>\n",
       "    </tr>\n",
       "  </thead>\n",
       "  <tbody>\n",
       "    <tr>\n",
       "      <th>0</th>\n",
       "      <td>It's a Wonderful Life</td>\n",
       "      <td>MOVIE</td>\n",
       "      <td>A holiday favourite for generations...  George...</td>\n",
       "      <td>1946</td>\n",
       "      <td>130</td>\n",
       "      <td>drama</td>\n",
       "      <td>'US'</td>\n",
       "      <td>0.0</td>\n",
       "      <td>8.6</td>\n",
       "      <td>467766.0</td>\n",
       "      <td>27.611</td>\n",
       "      <td>8.261</td>\n",
       "      <td>25020.0</td>\n",
       "      <td>James Stewart</td>\n",
       "      <td>George Bailey</td>\n",
       "      <td>ACTOR</td>\n",
       "    </tr>\n",
       "    <tr>\n",
       "      <th>1</th>\n",
       "      <td>It's a Wonderful Life</td>\n",
       "      <td>MOVIE</td>\n",
       "      <td>A holiday favourite for generations...  George...</td>\n",
       "      <td>1946</td>\n",
       "      <td>130</td>\n",
       "      <td>drama</td>\n",
       "      <td>'US'</td>\n",
       "      <td>0.0</td>\n",
       "      <td>8.6</td>\n",
       "      <td>467766.0</td>\n",
       "      <td>27.611</td>\n",
       "      <td>8.261</td>\n",
       "      <td>26190.0</td>\n",
       "      <td>Donna Reed</td>\n",
       "      <td>Mary Hatch</td>\n",
       "      <td>ACTOR</td>\n",
       "    </tr>\n",
       "  </tbody>\n",
       "</table>\n",
       "</div>"
      ],
      "text/plain": [
       "                   title   type  \\\n",
       "0  It's a Wonderful Life  MOVIE   \n",
       "1  It's a Wonderful Life  MOVIE   \n",
       "\n",
       "                                         description  release_year  runtime  \\\n",
       "0  A holiday favourite for generations...  George...          1946      130   \n",
       "1  A holiday favourite for generations...  George...          1946      130   \n",
       "\n",
       "  genres production_countries  seasons  imdb_score  imdb_votes  \\\n",
       "0  drama                 'US'      0.0         8.6    467766.0   \n",
       "1  drama                 'US'      0.0         8.6    467766.0   \n",
       "\n",
       "   tmdb_popularity  tmdb_score  person_id           name      character   role  \n",
       "0           27.611       8.261    25020.0  James Stewart  George Bailey  ACTOR  \n",
       "1           27.611       8.261    26190.0     Donna Reed     Mary Hatch  ACTOR  "
      ]
     },
     "execution_count": 163,
     "metadata": {},
     "output_type": "execute_result"
    }
   ],
   "source": [
    "df.head(2)"
   ]
  },
  {
   "cell_type": "code",
   "execution_count": 161,
   "id": "2dfd565b",
   "metadata": {},
   "outputs": [],
   "source": [
    "df['genres'] = df['genres'].str.replace(r'[','').str.replace(r']','').str.replace(r\"'\",'')\n",
    "df['genres'] = df['genres'].str.split(',').str[0]"
   ]
  },
  {
   "cell_type": "code",
   "execution_count": 162,
   "id": "ee7a87f1",
   "metadata": {},
   "outputs": [],
   "source": [
    "df['production_countries'] = df['production_countries'].str.replace(r'[','').str.replace(r']','')\n",
    "df['production_countries'] = df['production_countries'].str.split(',').str[0]"
   ]
  },
  {
   "cell_type": "code",
   "execution_count": 171,
   "id": "6e09bb97",
   "metadata": {},
   "outputs": [
    {
     "data": {
      "text/plain": [
       "array(['drama', 'comedy', 'western', 'romance', 'action', 'fantasy',\n",
       "       'horror', 'thriller', 'documentation', 'music', 'crime', 'reality',\n",
       "       'war', 'scifi', 'history', nan, 'family', 'animation', 'sport'],\n",
       "      dtype=object)"
      ]
     },
     "execution_count": 171,
     "metadata": {},
     "output_type": "execute_result"
    }
   ],
   "source": [
    "df['genres'].unique()"
   ]
  },
  {
   "cell_type": "code",
   "execution_count": 172,
   "id": "57fa9791",
   "metadata": {},
   "outputs": [
    {
     "data": {
      "text/plain": [
       "array([\"'US'\", \"'GB'\", \"'SU'\", \"'DE'\", \"'MX'\", \"'CA'\", \"'IT'\", \"'MA'\",\n",
       "       \"'HK'\", \"'FR'\", \"'JP'\", \"'PR'\", \"'ES'\", \"'IE'\", \"'PH'\", \"'IN'\",\n",
       "       \"'CH'\", \"'RO'\", \"'YU'\", nan, \"'KR'\", \"'TW'\", \"'MC'\", \"'EG'\",\n",
       "       \"'AU'\", \"'NZ'\", \"'AT'\", \"'ZA'\", \"'LI'\", \"'BR'\", \"'SE'\", \"'IL'\",\n",
       "       \"'DK'\", \"'IR'\", \"'PT'\", \"'BE'\", \"'FI'\", \"'AR'\", \"'NL'\", \"'RU'\",\n",
       "       \"'ID'\", \"'VE'\", \"'XC'\", \"'NO'\", \"'BG'\", \"'CN'\", \"'TH'\", \"'CL'\",\n",
       "       \"'LU'\", \"'DO'\", \"'CO'\", \"'AE'\", \"'PL'\", \"'SK'\", \"'JM'\", \"'IS'\",\n",
       "       \"'RS'\", \"'CZ'\", \"'GR'\", \"'LT'\", \"'KZ'\", \"'UY'\", \"'MT'\", \"'AF'\",\n",
       "       \"'NG'\", \"'TR'\", \"'VN'\", \"'KE'\", \"'BO'\", \"'GE'\", \"'TT'\", \"'HU'\",\n",
       "       \"'MY'\", \"'PK'\", \"'SG'\", \"'UA'\", \"'TC'\", \"'LB'\", \"'MN'\", \"'CR'\",\n",
       "       \"'XK'\", \"'KH'\", \"'CM'\", \"'CU'\", \"'LV'\", \"'SY'\", \"'BM'\", \"'IO'\",\n",
       "       \"'PA'\", \"'EE'\", \"'TN'\", \"'PE'\", \"'QA'\", \"'CI'\", \"'ET'\", \"'PS'\",\n",
       "       \"'SA'\", \"'GL'\", \"'JO'\", \"'CD'\", \"'PY'\", \"'IQ'\", \"'BD'\", \"'TZ'\",\n",
       "       \"'SN'\", \"'BT'\", \"'AO'\", \"'GH'\", \"'ZW'\", \"'MW'\", \"'KW'\", \"'MU'\",\n",
       "       \"'FO'\", \"'SB'\", \"'DZ'\", \"'MK'\"], dtype=object)"
      ]
     },
     "execution_count": 172,
     "metadata": {},
     "output_type": "execute_result"
    }
   ],
   "source": [
    "df['production_countries'].unique()"
   ]
  },
  {
   "cell_type": "code",
   "execution_count": 170,
   "id": "1e350eb8",
   "metadata": {},
   "outputs": [],
   "source": [
    "df['production_countries'] = df['production_countries'].replace('',np.nan)\n",
    "df['genres'] = df['genres'].replace('',np.nan)"
   ]
  },
  {
   "cell_type": "code",
   "execution_count": 176,
   "id": "9c49d89e",
   "metadata": {},
   "outputs": [
    {
     "data": {
      "text/plain": [
       "title                   0.0\n",
       "type                    0.0\n",
       "description             0.0\n",
       "release_year            0.0\n",
       "runtime                 0.0\n",
       "genres                  0.0\n",
       "production_countries    0.0\n",
       "seasons                 0.0\n",
       "imdb_score              0.0\n",
       "imdb_votes              0.0\n",
       "tmdb_popularity         0.0\n",
       "tmdb_score              0.0\n",
       "person_id               0.0\n",
       "name                    0.0\n",
       "character               0.0\n",
       "role                    0.0\n",
       "dtype: float64"
      ]
     },
     "execution_count": 176,
     "metadata": {},
     "output_type": "execute_result"
    }
   ],
   "source": [
    "df.isnull().sum()/len(df)*100"
   ]
  },
  {
   "cell_type": "code",
   "execution_count": 175,
   "id": "b625693d",
   "metadata": {},
   "outputs": [],
   "source": [
    "df.dropna(inplace = True)"
   ]
  }
 ],
 "metadata": {
  "kernelspec": {
   "display_name": "Python 3 (ipykernel)",
   "language": "python",
   "name": "python3"
  },
  "language_info": {
   "codemirror_mode": {
    "name": "ipython",
    "version": 3
   },
   "file_extension": ".py",
   "mimetype": "text/x-python",
   "name": "python",
   "nbconvert_exporter": "python",
   "pygments_lexer": "ipython3",
   "version": "3.9.16"
  }
 },
 "nbformat": 4,
 "nbformat_minor": 5
}
